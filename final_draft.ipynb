{
 "cells": [
  {
   "cell_type": "code",
   "execution_count": null,
   "id": "fd4ac56d-cb74-4d1c-a7d9-40641f8e1d89",
   "metadata": {},
   "outputs": [],
   "source": []
  },
  {
   "cell_type": "code",
   "execution_count": 1,
   "id": "a2aebf1b-d0b2-4808-a2b1-25cc794acff8",
   "metadata": {},
   "outputs": [],
   "source": [
    "# Standard Imports\n",
    "import matplotlib.pyplot as plt\n",
    "import seaborn as sns\n",
    "import pandas as pd\n",
    "import numpy as np\n",
    "# Natural Language Tool Kit, Regex, unicodedata for manipulation of language\n",
    "import nltk\n",
    "import unicodedata\n",
    "import re\n",
    "# Our code specific for this project\n",
    "from prepare import git_df\n",
    "from acquire import git_data\n",
    "from explore import code_language, other_languages, word_counts\n",
    "# Text/Display Formatting\n",
    "from formating import bold, display, Latex, Markdown, percent, Percent, strike, underline\n",
    "# Spell Checking and Visualization\n",
    "from textblob import TextBlob\n",
    "from wordcloud import WordCloud\n",
    "import PIL\n",
    "import os\n",
    "# plt presets\n",
    "plt.rc('figure', figsize=(13, 7))\n",
    "plt.style.use('seaborn-darkgrid')"
   ]
  },
  {
   "cell_type": "code",
   "execution_count": 2,
   "id": "e58f9b42-e0de-4b7f-aa23-a476675eeb35",
   "metadata": {},
   "outputs": [],
   "source": [
    "df = git_df()"
   ]
  },
  {
   "cell_type": "code",
   "execution_count": 3,
   "id": "c9ad2741-f0ec-4360-bc2a-8c356b2532d3",
   "metadata": {},
   "outputs": [
    {
     "data": {
      "text/html": [
       "<div>\n",
       "<style scoped>\n",
       "    .dataframe tbody tr th:only-of-type {\n",
       "        vertical-align: middle;\n",
       "    }\n",
       "\n",
       "    .dataframe tbody tr th {\n",
       "        vertical-align: top;\n",
       "    }\n",
       "\n",
       "    .dataframe thead th {\n",
       "        text-align: right;\n",
       "    }\n",
       "</style>\n",
       "<table border=\"1\" class=\"dataframe\">\n",
       "  <thead>\n",
       "    <tr style=\"text-align: right;\">\n",
       "      <th></th>\n",
       "      <th>repo</th>\n",
       "      <th>language</th>\n",
       "      <th>original</th>\n",
       "      <th>clean</th>\n",
       "      <th>stemmed</th>\n",
       "      <th>lemmatized</th>\n",
       "      <th>original_length</th>\n",
       "      <th>true_clean</th>\n",
       "    </tr>\n",
       "  </thead>\n",
       "  <tbody>\n",
       "  </tbody>\n",
       "</table>\n",
       "</div>"
      ],
      "text/plain": [
       "Empty DataFrame\n",
       "Columns: [repo, language, original, clean, stemmed, lemmatized, original_length, true_clean]\n",
       "Index: []"
      ]
     },
     "execution_count": 3,
     "metadata": {},
     "output_type": "execute_result"
    }
   ],
   "source": [
    "df[df.language.isnull() == True]"
   ]
  },
  {
   "cell_type": "code",
   "execution_count": 4,
   "id": "8c970d6a-21ef-429a-a5f3-c1e4170dc674",
   "metadata": {
    "tags": []
   },
   "outputs": [
    {
     "data": {
      "text/html": [
       "<div>\n",
       "<style scoped>\n",
       "    .dataframe tbody tr th:only-of-type {\n",
       "        vertical-align: middle;\n",
       "    }\n",
       "\n",
       "    .dataframe tbody tr th {\n",
       "        vertical-align: top;\n",
       "    }\n",
       "\n",
       "    .dataframe thead th {\n",
       "        text-align: right;\n",
       "    }\n",
       "</style>\n",
       "<table border=\"1\" class=\"dataframe\">\n",
       "  <thead>\n",
       "    <tr style=\"text-align: right;\">\n",
       "      <th></th>\n",
       "      <th>repo</th>\n",
       "      <th>language</th>\n",
       "      <th>original</th>\n",
       "      <th>clean</th>\n",
       "      <th>stemmed</th>\n",
       "      <th>lemmatized</th>\n",
       "      <th>original_length</th>\n",
       "      <th>true_clean</th>\n",
       "    </tr>\n",
       "  </thead>\n",
       "  <tbody>\n",
       "    <tr>\n",
       "      <th>0</th>\n",
       "      <td>0voice/interview_internal_reference</td>\n",
       "      <td>Python</td>\n",
       "      <td>\\n## 2021年最新总结，阿里，腾讯，百度，美团，头条等技术面试题目，以及答案，专家出题...</td>\n",
       "      <td>mysql redis mongodb zookeeper nginx cpu idh ea...</td>\n",
       "      <td>mysql redi mongodb zookeep nginx cpu idh eaebd...</td>\n",
       "      <td>mysql redis mongodb zookeeper nginx cpu idh ea...</td>\n",
       "      <td>37402</td>\n",
       "      <td>attached storage ping ping hive hive static fl...</td>\n",
       "    </tr>\n",
       "  </tbody>\n",
       "</table>\n",
       "</div>"
      ],
      "text/plain": [
       "                                  repo language  \\\n",
       "0  0voice/interview_internal_reference   Python   \n",
       "\n",
       "                                            original  \\\n",
       "0  \\n## 2021年最新总结，阿里，腾讯，百度，美团，头条等技术面试题目，以及答案，专家出题...   \n",
       "\n",
       "                                               clean  \\\n",
       "0  mysql redis mongodb zookeeper nginx cpu idh ea...   \n",
       "\n",
       "                                             stemmed  \\\n",
       "0  mysql redi mongodb zookeep nginx cpu idh eaebd...   \n",
       "\n",
       "                                          lemmatized  original_length  \\\n",
       "0  mysql redis mongodb zookeeper nginx cpu idh ea...            37402   \n",
       "\n",
       "                                          true_clean  \n",
       "0  attached storage ping ping hive hive static fl...  "
      ]
     },
     "execution_count": 4,
     "metadata": {},
     "output_type": "execute_result"
    }
   ],
   "source": [
    "df.head(1)"
   ]
  },
  {
   "cell_type": "code",
   "execution_count": 5,
   "id": "5458a85a-624f-41eb-9b10-bc19e760a65b",
   "metadata": {},
   "outputs": [
    {
     "name": "stdout",
     "output_type": "stream",
     "text": [
      "<class 'pandas.core.frame.DataFrame'>\n",
      "RangeIndex: 600 entries, 0 to 599\n",
      "Data columns (total 8 columns):\n",
      " #   Column           Non-Null Count  Dtype \n",
      "---  ------           --------------  ----- \n",
      " 0   repo             600 non-null    object\n",
      " 1   language         600 non-null    object\n",
      " 2   original         600 non-null    object\n",
      " 3   clean            600 non-null    object\n",
      " 4   stemmed          600 non-null    object\n",
      " 5   lemmatized       600 non-null    object\n",
      " 6   original_length  600 non-null    int64 \n",
      " 7   true_clean       600 non-null    object\n",
      "dtypes: int64(1), object(7)\n",
      "memory usage: 37.6+ KB\n"
     ]
    }
   ],
   "source": [
    "df.info()"
   ]
  },
  {
   "cell_type": "markdown",
   "id": "fedd2fb3-f5e6-420d-a573-c61ee8301a48",
   "metadata": {
    "tags": []
   },
   "source": [
    "### No non nulls in the finished dataframe!!\n",
    "- Let's split this to ask some real questions"
   ]
  },
  {
   "cell_type": "code",
   "execution_count": 6,
   "id": "8f74b0e8-040e-4b29-8d97-4559ec012e73",
   "metadata": {},
   "outputs": [
    {
     "data": {
      "text/plain": [
       "array(['Python', 'C#', 'JavaScript', 'C', 'C++', 'Java', 'PHP',\n",
       "       'Jupyter Notebook', 'HTML', 'TypeScript'], dtype=object)"
      ]
     },
     "execution_count": 6,
     "metadata": {},
     "output_type": "execute_result"
    }
   ],
   "source": [
    "df.language.unique()"
   ]
  },
  {
   "cell_type": "code",
   "execution_count": 7,
   "id": "b30efe7d-c463-4c6c-8f9e-97b9df5dda9b",
   "metadata": {},
   "outputs": [],
   "source": [
    "df = other_languages(df)"
   ]
  },
  {
   "cell_type": "code",
   "execution_count": 8,
   "id": "cfbc7c67-f3de-48c7-bfe3-d1d631d221ec",
   "metadata": {},
   "outputs": [
    {
     "data": {
      "text/plain": [
       "array(['Python', 'Other', 'C', 'C++', 'PHP', 'HTML'], dtype=object)"
      ]
     },
     "execution_count": 8,
     "metadata": {},
     "output_type": "execute_result"
    }
   ],
   "source": [
    "df.language.unique()"
   ]
  },
  {
   "cell_type": "markdown",
   "id": "7059ee75-5413-447d-b7c6-4314b0bbc6be",
   "metadata": {},
   "source": [
    "## What is the probability of guessing one right if we know nothing other than the categories?\n",
    "- $1/6$ "
   ]
  },
  {
   "cell_type": "code",
   "execution_count": 9,
   "id": "c9fb5f43-888d-46e9-b57a-c794daa5052b",
   "metadata": {},
   "outputs": [
    {
     "data": {
      "text/plain": [
       "16.67%"
      ]
     },
     "execution_count": 9,
     "metadata": {},
     "output_type": "execute_result"
    }
   ],
   "source": [
    "percent(1/6)"
   ]
  },
  {
   "cell_type": "markdown",
   "id": "b533ab45-bcc2-4828-987c-32473c3ef35a",
   "metadata": {},
   "source": [
    "## What is the probability of guessing correctly if we use the probability from our sample?\n",
    "- Gotta split this data up first, however I will be stratifying by the language, so the approximate proportions should be similar\n"
   ]
  },
  {
   "cell_type": "code",
   "execution_count": 10,
   "id": "4d7bb5e2-7190-40ce-ab98-f1008a4ff75f",
   "metadata": {},
   "outputs": [],
   "source": [
    "from prepare import split_data"
   ]
  },
  {
   "cell_type": "code",
   "execution_count": 11,
   "id": "d9bb78f9-982f-4482-82e7-666b4c05ca40",
   "metadata": {},
   "outputs": [],
   "source": [
    "train, validate, test = split_data(df, 'language')"
   ]
  },
  {
   "cell_type": "code",
   "execution_count": 19,
   "id": "8582149b-2289-4543-9f72-a7cadc3423c5",
   "metadata": {},
   "outputs": [
    {
     "name": "stdout",
     "output_type": "stream",
     "text": [
      "<class 'pandas.core.frame.DataFrame'>\n",
      "Int64Index: 360 entries, 347 to 211\n",
      "Data columns (total 8 columns):\n",
      " #   Column           Non-Null Count  Dtype \n",
      "---  ------           --------------  ----- \n",
      " 0   repo             360 non-null    object\n",
      " 1   language         360 non-null    object\n",
      " 2   original         360 non-null    object\n",
      " 3   clean            360 non-null    object\n",
      " 4   stemmed          360 non-null    object\n",
      " 5   lemmatized       360 non-null    object\n",
      " 6   original_length  360 non-null    int64 \n",
      " 7   true_clean       360 non-null    object\n",
      "dtypes: int64(1), object(7)\n",
      "memory usage: 25.3+ KB\n"
     ]
    }
   ],
   "source": [
    "train.info()"
   ]
  },
  {
   "cell_type": "markdown",
   "id": "b978a693-0350-438c-aa1b-2bd062427a5c",
   "metadata": {},
   "source": [
    "### Great! Looks like we have a good Training set with 360 rows\n",
    "- Let's make a language bank from our code_language class"
   ]
  },
  {
   "cell_type": "code",
   "execution_count": 13,
   "id": "2114da04-87ea-4745-b069-6a53eb028bd9",
   "metadata": {
    "tags": []
   },
   "outputs": [],
   "source": [
    "lb = code_language.make_language_bank(train)"
   ]
  },
  {
   "cell_type": "code",
   "execution_count": 14,
   "id": "c36bcfc6-18bd-4411-bf3b-c9acdb56009e",
   "metadata": {},
   "outputs": [
    {
     "data": {
      "text/plain": [
       "'C'"
      ]
     },
     "execution_count": 14,
     "metadata": {},
     "output_type": "execute_result"
    }
   ],
   "source": [
    "lb['C'].label"
   ]
  },
  {
   "cell_type": "code",
   "execution_count": 25,
   "id": "f8867c98-d3a1-4b62-96d3-6d1afc2642a2",
   "metadata": {},
   "outputs": [],
   "source": [
    "###----  Only run this cell if you  ----###\n",
    "###----  want to see all the words  ----###\n",
    "###----  in the readme's of all the ----###\n",
    "###----       C repostiories        ----###\n",
    "\n",
    "# lb['C'].words"
   ]
  },
  {
   "cell_type": "code",
   "execution_count": 18,
   "id": "bb3aeb5d-844a-4516-bbc5-0e22bdf782e7",
   "metadata": {},
   "outputs": [
    {
     "data": {
      "text/plain": [
       "python          1393\n",
       "file             661\n",
       "code             546\n",
       "star             527\n",
       "model            405\n",
       "                ... \n",
       "axiom              1\n",
       "acknowledge        1\n",
       "citizen            1\n",
       "bureaucratic       1\n",
       "ridge              1\n",
       "Length: 4568, dtype: int64"
      ]
     },
     "execution_count": 18,
     "metadata": {},
     "output_type": "execute_result"
    }
   ],
   "source": [
    "lb['Python'].freq()"
   ]
  },
  {
   "cell_type": "code",
   "execution_count": 17,
   "id": "864b78b9-1c0f-45e2-8db7-a9fbd07d0c44",
   "metadata": {},
   "outputs": [
    {
     "data": {
      "text/html": [
       "<div>\n",
       "<style scoped>\n",
       "    .dataframe tbody tr th:only-of-type {\n",
       "        vertical-align: middle;\n",
       "    }\n",
       "\n",
       "    .dataframe tbody tr th {\n",
       "        vertical-align: top;\n",
       "    }\n",
       "\n",
       "    .dataframe thead th {\n",
       "        text-align: right;\n",
       "    }\n",
       "</style>\n",
       "<table border=\"1\" class=\"dataframe\">\n",
       "  <thead>\n",
       "    <tr style=\"text-align: right;\">\n",
       "      <th></th>\n",
       "      <th>python</th>\n",
       "      <th>html</th>\n",
       "      <th>c</th>\n",
       "      <th>c++</th>\n",
       "      <th>php</th>\n",
       "      <th>other</th>\n",
       "      <th>all</th>\n",
       "    </tr>\n",
       "  </thead>\n",
       "  <tbody>\n",
       "    <tr>\n",
       "      <th>python</th>\n",
       "      <td>1393</td>\n",
       "      <td>20</td>\n",
       "      <td>45</td>\n",
       "      <td>185</td>\n",
       "      <td>33</td>\n",
       "      <td>133</td>\n",
       "      <td>1809</td>\n",
       "    </tr>\n",
       "    <tr>\n",
       "      <th>file</th>\n",
       "      <td>661</td>\n",
       "      <td>122</td>\n",
       "      <td>316</td>\n",
       "      <td>227</td>\n",
       "      <td>198</td>\n",
       "      <td>166</td>\n",
       "      <td>1690</td>\n",
       "    </tr>\n",
       "    <tr>\n",
       "      <th>code</th>\n",
       "      <td>546</td>\n",
       "      <td>155</td>\n",
       "      <td>198</td>\n",
       "      <td>211</td>\n",
       "      <td>149</td>\n",
       "      <td>301</td>\n",
       "      <td>1560</td>\n",
       "    </tr>\n",
       "    <tr>\n",
       "      <th>star</th>\n",
       "      <td>527</td>\n",
       "      <td>11</td>\n",
       "      <td>2</td>\n",
       "      <td>6</td>\n",
       "      <td>8</td>\n",
       "      <td>9</td>\n",
       "      <td>563</td>\n",
       "    </tr>\n",
       "    <tr>\n",
       "      <th>model</th>\n",
       "      <td>405</td>\n",
       "      <td>46</td>\n",
       "      <td>15</td>\n",
       "      <td>62</td>\n",
       "      <td>71</td>\n",
       "      <td>190</td>\n",
       "      <td>789</td>\n",
       "    </tr>\n",
       "    <tr>\n",
       "      <th>...</th>\n",
       "      <td>...</td>\n",
       "      <td>...</td>\n",
       "      <td>...</td>\n",
       "      <td>...</td>\n",
       "      <td>...</td>\n",
       "      <td>...</td>\n",
       "      <td>...</td>\n",
       "    </tr>\n",
       "    <tr>\n",
       "      <th>shama</th>\n",
       "      <td>0</td>\n",
       "      <td>0</td>\n",
       "      <td>0</td>\n",
       "      <td>0</td>\n",
       "      <td>0</td>\n",
       "      <td>1</td>\n",
       "      <td>1</td>\n",
       "    </tr>\n",
       "    <tr>\n",
       "      <th>perfected</th>\n",
       "      <td>0</td>\n",
       "      <td>0</td>\n",
       "      <td>0</td>\n",
       "      <td>0</td>\n",
       "      <td>0</td>\n",
       "      <td>1</td>\n",
       "      <td>1</td>\n",
       "    </tr>\n",
       "    <tr>\n",
       "      <th>rent</th>\n",
       "      <td>0</td>\n",
       "      <td>0</td>\n",
       "      <td>0</td>\n",
       "      <td>0</td>\n",
       "      <td>0</td>\n",
       "      <td>1</td>\n",
       "      <td>1</td>\n",
       "    </tr>\n",
       "    <tr>\n",
       "      <th>coloring</th>\n",
       "      <td>0</td>\n",
       "      <td>0</td>\n",
       "      <td>0</td>\n",
       "      <td>0</td>\n",
       "      <td>0</td>\n",
       "      <td>1</td>\n",
       "      <td>1</td>\n",
       "    </tr>\n",
       "    <tr>\n",
       "      <th>lated</th>\n",
       "      <td>0</td>\n",
       "      <td>0</td>\n",
       "      <td>0</td>\n",
       "      <td>0</td>\n",
       "      <td>0</td>\n",
       "      <td>1</td>\n",
       "      <td>1</td>\n",
       "    </tr>\n",
       "  </tbody>\n",
       "</table>\n",
       "<p>7285 rows × 7 columns</p>\n",
       "</div>"
      ],
      "text/plain": [
       "           python  html    c  c++  php  other   all\n",
       "python       1393    20   45  185   33    133  1809\n",
       "file          661   122  316  227  198    166  1690\n",
       "code          546   155  198  211  149    301  1560\n",
       "star          527    11    2    6    8      9   563\n",
       "model         405    46   15   62   71    190   789\n",
       "...           ...   ...  ...  ...  ...    ...   ...\n",
       "shama           0     0    0    0    0      1     1\n",
       "perfected       0     0    0    0    0      1     1\n",
       "rent            0     0    0    0    0      1     1\n",
       "coloring        0     0    0    0    0      1     1\n",
       "lated           0     0    0    0    0      1     1\n",
       "\n",
       "[7285 rows x 7 columns]"
      ]
     },
     "execution_count": 17,
     "metadata": {},
     "output_type": "execute_result"
    }
   ],
   "source": [
    "word_counts(lb)"
   ]
  },
  {
   "cell_type": "code",
   "execution_count": 22,
   "id": "9b6b6cf0-b0c7-445f-afe7-3ed1c3364c02",
   "metadata": {},
   "outputs": [
    {
     "data": {
      "text/plain": [
       "<AxesSubplot:>"
      ]
     },
     "execution_count": 22,
     "metadata": {},
     "output_type": "execute_result"
    },
    {
     "data": {
      "image/png": "[encoded data removed]",
      "text/plain": [
       "<Figure size 936x504 with 1 Axes>"
      ]
     },
     "metadata": {},
     "output_type": "display_data"
    }
   ],
   "source": [
    "lb['Python'].bigrams().value_counts(ascending=False).head(20).plot.barh()"
   ]
  },
  {
   "cell_type": "code",
   "execution_count": null,
   "id": "ef9a6f55-5b78-45c5-8475-9b4b072b8fdd",
   "metadata": {},
   "outputs": [],
   "source": []
  }
 ],
 "metadata": {
  "kernelspec": {
   "display_name": "Python 3 (ipykernel)",
   "language": "python",
   "name": "python3"
  },
  "language_info": {
   "codemirror_mode": {
    "name": "ipython",
    "version": 3
   },
   "file_extension": ".py",
   "mimetype": "text/x-python",
   "name": "python",
   "nbconvert_exporter": "python",
   "pygments_lexer": "ipython3",
   "version": "3.9.12"
  }
 },
 "nbformat": 4,
 "nbformat_minor": 5
}
