{
 "cells": [
  {
   "cell_type": "code",
   "execution_count": null,
   "id": "55e23900-41f9-4830-94be-b6864491a2d4",
   "metadata": {},
   "outputs": [],
   "source": []
  },
  {
   "cell_type": "markdown",
   "id": "bc93e171-831f-4129-a464-e82555028d33",
   "metadata": {},
   "source": [
    "## Setup\n",
    "\n",
    "Data is spam/ham text messages."
   ]
  },
  {
   "cell_type": "code",
   "execution_count": 1,
   "id": "c6fd0353-f09c-40f8-93f5-db1bad427361",
   "metadata": {},
   "outputs": [],
   "source": [
    "import matplotlib.pyplot as plt\n",
    "import seaborn as sns\n",
    "import pandas as pd\n",
    "import nltk\n",
    "import unicodedata\n",
    "import re\n",
    "# from prepare import \n",
    "from acquire import git_data"
   ]
  },
  {
   "cell_type": "code",
   "execution_count": 2,
   "id": "57f39582-4569-4d53-83c0-89abac875366",
   "metadata": {},
   "outputs": [],
   "source": [
    "plt.rc('figure', figsize=(13, 7))\n",
    "plt.style.use('seaborn-darkgrid')"
   ]
  },
  {
   "cell_type": "code",
   "execution_count": 3,
   "id": "11e467ac-fdb5-4409-9543-f77f38743cea",
   "metadata": {},
   "outputs": [],
   "source": [
    "df = git_data(df=True)"
   ]
  },
  {
   "cell_type": "code",
   "execution_count": 4,
   "id": "6c5786c8-5b74-4ae1-818e-25ef33bb7f53",
   "metadata": {},
   "outputs": [
    {
     "data": {
      "text/html": [
       "<div>\n",
       "<style scoped>\n",
       "    .dataframe tbody tr th:only-of-type {\n",
       "        vertical-align: middle;\n",
       "    }\n",
       "\n",
       "    .dataframe tbody tr th {\n",
       "        vertical-align: top;\n",
       "    }\n",
       "\n",
       "    .dataframe thead th {\n",
       "        text-align: right;\n",
       "    }\n",
       "</style>\n",
       "<table border=\"1\" class=\"dataframe\">\n",
       "  <thead>\n",
       "    <tr style=\"text-align: right;\">\n",
       "      <th></th>\n",
       "      <th>language</th>\n",
       "      <th>readme_contents</th>\n",
       "    </tr>\n",
       "    <tr>\n",
       "      <th>repo</th>\n",
       "      <th></th>\n",
       "      <th></th>\n",
       "    </tr>\n",
       "  </thead>\n",
       "  <tbody>\n",
       "    <tr>\n",
       "      <th>0voice/interview_internal_reference</th>\n",
       "      <td>Python</td>\n",
       "      <td>\\n## 2021年最新总结，阿里，腾讯，百度，美团，头条等技术面试题目，以及答案，专家出题...</td>\n",
       "    </tr>\n",
       "    <tr>\n",
       "      <th>2dust/v2rayN</th>\n",
       "      <td>C#</td>\n",
       "      <td># v2rayN\\nA V2Ray client for Windows, support ...</td>\n",
       "    </tr>\n",
       "    <tr>\n",
       "      <th>30-seconds/30-seconds-of-code</th>\n",
       "      <td>JavaScript</td>\n",
       "      <td>[![Logo](/logo.png)](https://30secondsofcode.o...</td>\n",
       "    </tr>\n",
       "    <tr>\n",
       "      <th>521xueweihan/HelloGitHub</th>\n",
       "      <td>Python</td>\n",
       "      <td>&lt;p align=\"center\"&gt;\\n  &lt;img src=\"https://cdn.js...</td>\n",
       "    </tr>\n",
       "    <tr>\n",
       "      <th>Airblader/i3</th>\n",
       "      <td>C</td>\n",
       "      <td>[![Build Status](https://github.com/Airblader/...</td>\n",
       "    </tr>\n",
       "    <tr>\n",
       "      <th>...</th>\n",
       "      <td>...</td>\n",
       "      <td>...</td>\n",
       "    </tr>\n",
       "    <tr>\n",
       "      <th>yuzu-emu/yuzu</th>\n",
       "      <td>C++</td>\n",
       "      <td>&lt;!--\\nSPDX-FileCopyrightText: 2018 yuzu Emulat...</td>\n",
       "    </tr>\n",
       "    <tr>\n",
       "      <th>zealdocs/zeal</th>\n",
       "      <td>C++</td>\n",
       "      <td># Zeal\\n\\n[![Changelog](https://img.shields.io...</td>\n",
       "    </tr>\n",
       "    <tr>\n",
       "      <th>zergtant/pytorch-handbook</th>\n",
       "      <td>Jupyter Notebook</td>\n",
       "      <td># PyTorch 中文手册（pytorch handbook）\\r\\n![pytorch]...</td>\n",
       "    </tr>\n",
       "    <tr>\n",
       "      <th>zero-to-mastery/start-here-guidelines</th>\n",
       "      <td>Python</td>\n",
       "      <td>Guidelines on how this open-source community w...</td>\n",
       "    </tr>\n",
       "    <tr>\n",
       "      <th>zxing/zxing</th>\n",
       "      <td>Java</td>\n",
       "      <td>&lt;img align=\"right\" src=\"https://raw.github.com...</td>\n",
       "    </tr>\n",
       "  </tbody>\n",
       "</table>\n",
       "<p>601 rows × 2 columns</p>\n",
       "</div>"
      ],
      "text/plain": [
       "                                               language  \\\n",
       "repo                                                      \n",
       "0voice/interview_internal_reference              Python   \n",
       "2dust/v2rayN                                         C#   \n",
       "30-seconds/30-seconds-of-code                JavaScript   \n",
       "521xueweihan/HelloGitHub                         Python   \n",
       "Airblader/i3                                          C   \n",
       "...                                                 ...   \n",
       "yuzu-emu/yuzu                                       C++   \n",
       "zealdocs/zeal                                       C++   \n",
       "zergtant/pytorch-handbook              Jupyter Notebook   \n",
       "zero-to-mastery/start-here-guidelines            Python   \n",
       "zxing/zxing                                        Java   \n",
       "\n",
       "                                                                         readme_contents  \n",
       "repo                                                                                      \n",
       "0voice/interview_internal_reference    \\n## 2021年最新总结，阿里，腾讯，百度，美团，头条等技术面试题目，以及答案，专家出题...  \n",
       "2dust/v2rayN                           # v2rayN\\nA V2Ray client for Windows, support ...  \n",
       "30-seconds/30-seconds-of-code          [![Logo](/logo.png)](https://30secondsofcode.o...  \n",
       "521xueweihan/HelloGitHub               <p align=\"center\">\\n  <img src=\"https://cdn.js...  \n",
       "Airblader/i3                           [![Build Status](https://github.com/Airblader/...  \n",
       "...                                                                                  ...  \n",
       "yuzu-emu/yuzu                          <!--\\nSPDX-FileCopyrightText: 2018 yuzu Emulat...  \n",
       "zealdocs/zeal                          # Zeal\\n\\n[![Changelog](https://img.shields.io...  \n",
       "zergtant/pytorch-handbook              # PyTorch 中文手册（pytorch handbook）\\r\\n![pytorch]...  \n",
       "zero-to-mastery/start-here-guidelines  Guidelines on how this open-source community w...  \n",
       "zxing/zxing                            <img align=\"right\" src=\"https://raw.github.com...  \n",
       "\n",
       "[601 rows x 2 columns]"
      ]
     },
     "execution_count": 4,
     "metadata": {},
     "output_type": "execute_result"
    }
   ],
   "source": [
    "df"
   ]
  },
  {
   "cell_type": "code",
   "execution_count": null,
   "id": "5bb9e856-146c-4424-a3a0-facf8f228440",
   "metadata": {},
   "outputs": [],
   "source": []
  }
 ],
 "metadata": {
  "kernelspec": {
   "display_name": "Python 3 (ipykernel)",
   "language": "python",
   "name": "python3"
  },
  "language_info": {
   "codemirror_mode": {
    "name": "ipython",
    "version": 3
   },
   "file_extension": ".py",
   "mimetype": "text/x-python",
   "name": "python",
   "nbconvert_exporter": "python",
   "pygments_lexer": "ipython3",
   "version": "3.9.12"
  }
 },
 "nbformat": 4,
 "nbformat_minor": 5
}
