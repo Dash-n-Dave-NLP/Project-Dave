{
 "cells": [
  {
   "cell_type": "code",
   "execution_count": 1,
   "id": "7951a2a7-2faf-47b1-8af8-045163d808ca",
   "metadata": {},
   "outputs": [],
   "source": [
    "import numpy as np\n",
    "import pandas as pd\n",
    "import matplotlib.pyplot as plt\n",
    "import plotly.express as px\n",
    "import seaborn as sns\n",
    "from formating import bold, underline, strike, hr, percent, Percent, display, Markdown, Latex"
   ]
  },
  {
   "cell_type": "code",
   "execution_count": 3,
   "id": "29ce8c94-77dd-4384-8c3d-302c0298b53b",
   "metadata": {},
   "outputs": [],
   "source": [
    "repos = pd.read_pickle('repolist')"
   ]
  },
  {
   "cell_type": "code",
   "execution_count": 9,
   "id": "ff2a3446-dd06-481c-b227-12e0f4c3d0a3",
   "metadata": {},
   "outputs": [
    {
     "data": {
      "text/plain": [
       "680"
      ]
     },
     "execution_count": 9,
     "metadata": {},
     "output_type": "execute_result"
    }
   ],
   "source": [
    "len(repos) # Let's not even tak about the day spent figuring out how to create the list of repos, and api denials..."
   ]
  },
  {
   "cell_type": "code",
   "execution_count": 10,
   "id": "631f4ca4-24ad-4e9a-8c0f-d5532e3132d8",
   "metadata": {},
   "outputs": [
    {
     "data": {
      "text/plain": [
       "3400"
      ]
     },
     "execution_count": 10,
     "metadata": {},
     "output_type": "execute_result"
    }
   ],
   "source": [
    "680 * 5 # entries x seconds of time.sleep() "
   ]
  },
  {
   "cell_type": "code",
   "execution_count": 11,
   "id": "52cdcf53-8431-4f96-878d-71dcd4fdc3d9",
   "metadata": {},
   "outputs": [
    {
     "data": {
      "text/plain": [
       "56.666666666666664"
      ]
     },
     "execution_count": 11,
     "metadata": {},
     "output_type": "execute_result"
    }
   ],
   "source": [
    "3400 / 60 # which gives us... "
   ]
  },
  {
   "cell_type": "markdown",
   "id": "3a81855a-b82c-42a0-86db-3a9e52468cd5",
   "metadata": {},
   "source": [
    "## 57 minutes of my life that I'll never get back..."
   ]
  }
 ],
 "metadata": {
  "kernelspec": {
   "display_name": "Python 3 (ipykernel)",
   "language": "python",
   "name": "python3"
  },
  "language_info": {
   "codemirror_mode": {
    "name": "ipython",
    "version": 3
   },
   "file_extension": ".py",
   "mimetype": "text/x-python",
   "name": "python",
   "nbconvert_exporter": "python",
   "pygments_lexer": "ipython3",
   "version": "3.9.12"
  }
 },
 "nbformat": 4,
 "nbformat_minor": 5
}
